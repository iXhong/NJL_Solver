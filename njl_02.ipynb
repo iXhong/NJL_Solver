{
 "cells": [
  {
   "cell_type": "code",
   "execution_count": 1,
   "metadata": {},
   "outputs": [],
   "source": [
    "import numpy as np\n",
    "from scipy.integrate import quad"
   ]
  },
  {
   "cell_type": "markdown",
   "metadata": {},
   "source": []
  },
  {
   "cell_type": "code",
   "execution_count": 2,
   "metadata": {},
   "outputs": [],
   "source": [
    "m0 = 5.5\n",
    "Lambda = 631\n",
    "G = 5.074e-6\n",
    "T = 10\n",
    "mu = 1\n",
    "Nc = 3\n",
    "Nf = 2"
   ]
  },
  {
   "cell_type": "markdown",
   "metadata": {},
   "source": [
    "Define $n(p,\\mu)$"
   ]
  },
  {
   "cell_type": "code",
   "execution_count": 3,
   "metadata": {},
   "outputs": [],
   "source": [
    "def n_f(E,mu,T):\n",
    "\n",
    "    return 1/(1+np.exp((E-mu)/T))"
   ]
  },
  {
   "cell_type": "markdown",
   "metadata": {},
   "source": [
    "Define $m(p,\\mu)$"
   ]
  },
  {
   "cell_type": "code",
   "execution_count": 4,
   "metadata": {},
   "outputs": [],
   "source": [
    "def m_f(E,mu,T):\n",
    "\n",
    "    return 1/(1+np.exp((E+mu)/T))"
   ]
  },
  {
   "cell_type": "markdown",
   "metadata": {},
   "source": [
    "Define $\\sigma_1$"
   ]
  },
  {
   "cell_type": "code",
   "execution_count": 8,
   "metadata": {},
   "outputs": [],
   "source": [
    "def sigma1(M,mu,T):\n",
    "\n",
    "    def integrand(p):\n",
    "        E = np.sqrt(M**2 + p**2)\n",
    "        return p**2 /E * (1 - n_f(E,mu,T) - m_f(E,mu,T))\n",
    "\n",
    "    result,error = quad(integrand,0,Lambda)\n",
    "\n",
    "    return -M*Nc*Nf*result / np.pi**2"
   ]
  },
  {
   "cell_type": "markdown",
   "metadata": {},
   "source": [
    "Define M"
   ]
  },
  {
   "cell_type": "code",
   "execution_count": 9,
   "metadata": {},
   "outputs": [],
   "source": [
    "def gap_equations(M,mu,T):\n",
    "\n",
    "    sigma1_value = sigma1(M,mu,T)\n",
    "\n",
    "    return m0 - 2*G*sigma1_value"
   ]
  },
  {
   "cell_type": "markdown",
   "metadata": {},
   "source": [
    "### Solve the equation"
   ]
  },
  {
   "cell_type": "code",
   "execution_count": 10,
   "metadata": {},
   "outputs": [
    {
     "name": "stdout",
     "output_type": "stream",
     "text": [
      "solution is 269.8756552016462\n"
     ]
    }
   ],
   "source": [
    "M_init = 300\n",
    "max_iter = 1000\n",
    "tolerance  = 1e-4\n",
    "\n",
    "M = M_init\n",
    "\n",
    "for i in range(max_iter):\n",
    "    M_new = gap_equations(M,mu,T)\n",
    "    if np.abs(M_new - M) < tolerance:\n",
    "        print(f\"solution is {M_new}\")\n",
    "        break\n",
    "    M = M_new\n",
    "else:\n",
    "    print(\"Not\")"
   ]
  },
  {
   "cell_type": "code",
   "execution_count": null,
   "metadata": {},
   "outputs": [],
   "source": []
  }
 ],
 "metadata": {
  "kernelspec": {
   "display_name": "sci",
   "language": "python",
   "name": "python3"
  },
  "language_info": {
   "codemirror_mode": {
    "name": "ipython",
    "version": 3
   },
   "file_extension": ".py",
   "mimetype": "text/x-python",
   "name": "python",
   "nbconvert_exporter": "python",
   "pygments_lexer": "ipython3",
   "version": "3.13.1"
  }
 },
 "nbformat": 4,
 "nbformat_minor": 2
}
